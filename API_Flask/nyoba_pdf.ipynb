{
 "cells": [
  {
   "cell_type": "code",
   "execution_count": 1,
   "id": "d64c7c10",
   "metadata": {},
   "outputs": [],
   "source": [
    "import os\n",
    "import sys\n",
    "import comtypes.client"
   ]
  },
  {
   "cell_type": "code",
   "execution_count": 2,
   "id": "794a9ddf",
   "metadata": {},
   "outputs": [],
   "source": [
    "wdFormatPDF = 17"
   ]
  },
  {
   "cell_type": "code",
   "execution_count": 13,
   "id": "e588b123",
   "metadata": {},
   "outputs": [],
   "source": [
    "in_file = os.path.abspath(sys.argv[1])\n",
    "out_file = os.path.abspath(sys.argv[0])"
   ]
  },
  {
   "cell_type": "code",
   "execution_count": 16,
   "id": "f08b1e70",
   "metadata": {},
   "outputs": [
    {
     "name": "stdout",
     "output_type": "stream",
     "text": [
      "In file...\n",
      "Out file...\n",
      "Done!\n"
     ]
    }
   ],
   "source": [
    "word = comtypes.client.CreateObject('Word.Application')\n",
    "word.Visible = False\n",
    "print('In file...')\n",
    "doc = word.Documents.Open('C:\\\\Users\\\\myoga\\\\Documents\\\\Politeknik Negeri Jember\\\\Mahayoga Semester 5\\\\Project Magang\\\\Ofisly\\\\API_Flask\\\\Template1.docx', ReadOnly=True)\n",
    "print('Out file...')\n",
    "doc.SaveAs('C:\\\\Users\\\\myoga\\\\Documents\\\\Politeknik Negeri Jember\\\\Mahayoga Semester 5\\\\Project Magang\\\\Ofisly\\\\API_Flask\\\\Template1.pdf', FileFormat=wdFormatPDF)\n",
    "doc.Close()\n",
    "word.Quit()\n",
    "print('Done!')"
   ]
  },
  {
   "cell_type": "code",
   "execution_count": null,
   "id": "f7be28ce",
   "metadata": {},
   "outputs": [
    {
     "ename": "NameError",
     "evalue": "name '__file__' is not defined",
     "output_type": "error",
     "traceback": [
      "\u001b[31m---------------------------------------------------------------------------\u001b[39m",
      "\u001b[31mNameError\u001b[39m                                 Traceback (most recent call last)",
      "\u001b[36mCell\u001b[39m\u001b[36m \u001b[39m\u001b[32mIn[17]\u001b[39m\u001b[32m, line 1\u001b[39m\n\u001b[32m----> \u001b[39m\u001b[32m1\u001b[39m \u001b[38;5;28mprint\u001b[39m(os.path.dirname(\u001b[34;43m__file__\u001b[39;49m))\n",
      "\u001b[31mNameError\u001b[39m: name '__file__' is not defined"
     ]
    }
   ],
   "source": []
  }
 ],
 "metadata": {
  "kernelspec": {
   "display_name": "Python 3",
   "language": "python",
   "name": "python3"
  },
  "language_info": {
   "codemirror_mode": {
    "name": "ipython",
    "version": 3
   },
   "file_extension": ".py",
   "mimetype": "text/x-python",
   "name": "python",
   "nbconvert_exporter": "python",
   "pygments_lexer": "ipython3",
   "version": "3.11.4"
  }
 },
 "nbformat": 4,
 "nbformat_minor": 5
}
